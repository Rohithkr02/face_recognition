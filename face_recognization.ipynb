{
 "cells": [
  {
   "cell_type": "code",
   "execution_count": 1,
   "metadata": {},
   "outputs": [],
   "source": [
    "import cv2\n",
    "import numpy as np\n",
    "import os"
   ]
  },
  {
   "cell_type": "code",
   "execution_count": 2,
   "metadata": {},
   "outputs": [],
   "source": [
    "def name_map(x):\n",
    "    if x=='sachin':\n",
    "        return 0\n",
    "    if x=='obama':\n",
    "        return 1\n",
    "    if x=='messi':\n",
    "        return 2"
   ]
  },
  {
   "cell_type": "code",
   "execution_count": 3,
   "metadata": {},
   "outputs": [],
   "source": [
    "def get_name(x):\n",
    "    if x==0:\n",
    "        return 'sachin'\n",
    "    if x==1:\n",
    "        return 'obama'\n",
    "    if x==2:\n",
    "        return 'messi'"
   ]
  },
  {
   "cell_type": "code",
   "execution_count": 4,
   "metadata": {},
   "outputs": [],
   "source": [
    "def detect_face(img):\n",
    "    gray=cv2.cvtColor(img,cv2.COLOR_BGR2GRAY)\n",
    "    face_cas=cv2.CascadeClassifier(r'D:\\rohith\\computercv\\facerecognization\\haarcascade_frontalface_default.xml')\n",
    "    faces=face_cas.detectMultiScale(gray,scaleFactor=1.1,minNeighbors=4)\n",
    "    \n",
    "    if len(faces)==0:\n",
    "        return None,None\n",
    "    x,y,w,h=faces[0]\n",
    "    return gray[y:y+h,x:x+w],faces[0]\n"
   ]
  },
  {
   "cell_type": "code",
   "execution_count": 5,
   "metadata": {},
   "outputs": [],
   "source": [
    "# dirs=r'D:\\rohith\\computercv\\facerecognization\\DB'\n",
    "# print(os.listdir(dirs))\n",
    "# messipath=dirs +'/'+'messi'\n",
    "# oba=dirs+'/'+'obama'+'/'+'01.jpg'\n",
    "# oba"
   ]
  },
  {
   "cell_type": "code",
   "execution_count": 6,
   "metadata": {},
   "outputs": [],
   "source": [
    "def prepare_training_data(data_folder_path):\n",
    " dirs=os.listdir(data_folder_path)\n",
    " print(dirs)\n",
    " faces=[]\n",
    " labels=[]\n",
    " for dir_name in dirs:\n",
    "    label=dir_name\n",
    "    subject_dir_path=data_folder_path+'/'+dir_name\n",
    "    subject_images_names=os.listdir(subject_dir_path)\n",
    "    print(subject_images_names)\n",
    "    for img_name in subject_images_names:\n",
    "        img_path=subject_dir_path+'/'+img_name\n",
    "        #print(img_path)\n",
    "        img=cv2.imread(img_path)\n",
    "        cv2.imshow('image',img)\n",
    "        cv2.waitKey(1000)\n",
    "        face,rect=detect_face(img)\n",
    "        if face is not None:\n",
    "            faces.append(face)\n",
    "            labels.append(name_map(label))\n",
    "            print(labels)\n",
    " cv2.destroyAllWindows()\n",
    " cv2.waitKey(1)\n",
    " return faces,labels"
   ]
  },
  {
   "cell_type": "code",
   "execution_count": 7,
   "metadata": {},
   "outputs": [
    {
     "name": "stdout",
     "output_type": "stream",
     "text": [
      "preparing data\n",
      "['messi', 'obama', 'sachin']\n",
      "['01.jpg', '02.jpg', '03.jpg', '04.jpg', '05.jpg', '06.jpg', '07.jpg', '08.jpg', '09.jpg', '10.jpg']\n",
      "[2]\n",
      "[2, 2]\n",
      "[2, 2, 2]\n",
      "[2, 2, 2, 2]\n",
      "[2, 2, 2, 2, 2]\n",
      "[2, 2, 2, 2, 2, 2]\n",
      "[2, 2, 2, 2, 2, 2, 2]\n",
      "[2, 2, 2, 2, 2, 2, 2, 2]\n",
      "[2, 2, 2, 2, 2, 2, 2, 2, 2]\n",
      "[2, 2, 2, 2, 2, 2, 2, 2, 2, 2]\n",
      "['01.jpg', '02.jpg', '03.jpg', '04.jpg', '05.jpg', '06.jpg', '07.jpg', '08.jpg', '09.jpg', '10.jpg']\n",
      "[2, 2, 2, 2, 2, 2, 2, 2, 2, 2, 1]\n",
      "[2, 2, 2, 2, 2, 2, 2, 2, 2, 2, 1, 1]\n",
      "[2, 2, 2, 2, 2, 2, 2, 2, 2, 2, 1, 1, 1]\n",
      "[2, 2, 2, 2, 2, 2, 2, 2, 2, 2, 1, 1, 1, 1]\n",
      "[2, 2, 2, 2, 2, 2, 2, 2, 2, 2, 1, 1, 1, 1, 1]\n",
      "[2, 2, 2, 2, 2, 2, 2, 2, 2, 2, 1, 1, 1, 1, 1, 1]\n",
      "[2, 2, 2, 2, 2, 2, 2, 2, 2, 2, 1, 1, 1, 1, 1, 1, 1]\n",
      "[2, 2, 2, 2, 2, 2, 2, 2, 2, 2, 1, 1, 1, 1, 1, 1, 1, 1]\n",
      "[2, 2, 2, 2, 2, 2, 2, 2, 2, 2, 1, 1, 1, 1, 1, 1, 1, 1, 1]\n",
      "[2, 2, 2, 2, 2, 2, 2, 2, 2, 2, 1, 1, 1, 1, 1, 1, 1, 1, 1, 1]\n",
      "['01.jpg', '02.jpg', '03.jpg', '04.jpg', '05.jpg', '06.jpg', '07.jpg', '08.jpg', '09.jpg', '10.jpg']\n",
      "[2, 2, 2, 2, 2, 2, 2, 2, 2, 2, 1, 1, 1, 1, 1, 1, 1, 1, 1, 1, 0]\n",
      "[2, 2, 2, 2, 2, 2, 2, 2, 2, 2, 1, 1, 1, 1, 1, 1, 1, 1, 1, 1, 0, 0]\n",
      "[2, 2, 2, 2, 2, 2, 2, 2, 2, 2, 1, 1, 1, 1, 1, 1, 1, 1, 1, 1, 0, 0, 0]\n",
      "[2, 2, 2, 2, 2, 2, 2, 2, 2, 2, 1, 1, 1, 1, 1, 1, 1, 1, 1, 1, 0, 0, 0, 0]\n",
      "[2, 2, 2, 2, 2, 2, 2, 2, 2, 2, 1, 1, 1, 1, 1, 1, 1, 1, 1, 1, 0, 0, 0, 0, 0]\n",
      "[2, 2, 2, 2, 2, 2, 2, 2, 2, 2, 1, 1, 1, 1, 1, 1, 1, 1, 1, 1, 0, 0, 0, 0, 0, 0]\n",
      "[2, 2, 2, 2, 2, 2, 2, 2, 2, 2, 1, 1, 1, 1, 1, 1, 1, 1, 1, 1, 0, 0, 0, 0, 0, 0, 0]\n",
      "[2, 2, 2, 2, 2, 2, 2, 2, 2, 2, 1, 1, 1, 1, 1, 1, 1, 1, 1, 1, 0, 0, 0, 0, 0, 0, 0, 0]\n",
      "[2, 2, 2, 2, 2, 2, 2, 2, 2, 2, 1, 1, 1, 1, 1, 1, 1, 1, 1, 1, 0, 0, 0, 0, 0, 0, 0, 0, 0]\n"
     ]
    }
   ],
   "source": [
    "print('preparing data')\n",
    "faces,labels=prepare_training_data(r'D:\\rohith\\computercv\\facerecognization\\DB')"
   ]
  },
  {
   "cell_type": "code",
   "execution_count": 8,
   "metadata": {},
   "outputs": [
    {
     "name": "stdout",
     "output_type": "stream",
     "text": [
      "total faces detected 29\n"
     ]
    }
   ],
   "source": [
    "print('total faces detected',len(faces))"
   ]
  },
  {
   "cell_type": "code",
   "execution_count": 9,
   "metadata": {},
   "outputs": [
    {
     "name": "stdout",
     "output_type": "stream",
     "text": [
      "total number of labels 29\n"
     ]
    }
   ],
   "source": [
    "print('total number of labels',len(labels))"
   ]
  },
  {
   "cell_type": "code",
   "execution_count": 10,
   "metadata": {},
   "outputs": [],
   "source": [
    "recognizer=cv2.face.LBPHFaceRecognizer_create()"
   ]
  },
  {
   "cell_type": "code",
   "execution_count": 11,
   "metadata": {},
   "outputs": [],
   "source": [
    "recognizer.train(faces,np.array(labels))"
   ]
  },
  {
   "cell_type": "code",
   "execution_count": 12,
   "metadata": {},
   "outputs": [],
   "source": [
    "def draw_rectangle(img,rect):\n",
    "    (x,y,w,h)=rect\n",
    "    cv2.rectangle(img,(x,y),(x+w,y+h),(255,0,0),2)"
   ]
  },
  {
   "cell_type": "code",
   "execution_count": 13,
   "metadata": {},
   "outputs": [],
   "source": [
    "def draw_text(img,text,x,y):\n",
    "    cv2.putText(img,text,(x,y),cv2.FONT_HERSHEY_COMPLEX,1,(0,255,0),2)"
   ]
  },
  {
   "cell_type": "code",
   "execution_count": 14,
   "metadata": {},
   "outputs": [],
   "source": [
    "\n",
    "def predict(test_img):\n",
    "    img=test_img.copy()\n",
    "    face,rect=detect_face(img)\n",
    "    label=recognizer.predict(face)\n",
    "    label_text=get_name(label[0])\n",
    "    draw_rectangle(img,rect)\n",
    "    draw_text(img,label_text,rect[0],rect[1])\n",
    "    return img"
   ]
  },
  {
   "cell_type": "code",
   "execution_count": 15,
   "metadata": {},
   "outputs": [
    {
     "data": {
      "text/plain": [
       "array([[[ 99, 102,  93],\n",
       "        [100, 103,  94],\n",
       "        [103, 105,  99],\n",
       "        ...,\n",
       "        [115, 123, 130],\n",
       "        [114, 122, 129],\n",
       "        [114, 122, 129]],\n",
       "\n",
       "       [[ 99, 102,  93],\n",
       "        [100, 103,  94],\n",
       "        [102, 104,  98],\n",
       "        ...,\n",
       "        [116, 124, 131],\n",
       "        [115, 123, 130],\n",
       "        [115, 123, 130]],\n",
       "\n",
       "       [[ 98, 100,  94],\n",
       "        [100, 102,  96],\n",
       "        [102, 104,  98],\n",
       "        ...,\n",
       "        [118, 125, 134],\n",
       "        [117, 125, 132],\n",
       "        [116, 124, 131]],\n",
       "\n",
       "       ...,\n",
       "\n",
       "       [[102, 192, 173],\n",
       "        [102, 192, 173],\n",
       "        [102, 192, 173],\n",
       "        ...,\n",
       "        [118, 202, 184],\n",
       "        [118, 202, 184],\n",
       "        [118, 202, 184]],\n",
       "\n",
       "       [[101, 191, 172],\n",
       "        [101, 191, 172],\n",
       "        [101, 191, 172],\n",
       "        ...,\n",
       "        [118, 202, 184],\n",
       "        [118, 202, 184],\n",
       "        [118, 202, 184]],\n",
       "\n",
       "       [[101, 191, 172],\n",
       "        [101, 191, 172],\n",
       "        [101, 191, 172],\n",
       "        ...,\n",
       "        [118, 202, 184],\n",
       "        [118, 202, 184],\n",
       "        [118, 202, 184]]], dtype=uint8)"
      ]
     },
     "execution_count": 15,
     "metadata": {},
     "output_type": "execute_result"
    }
   ],
   "source": [
    "test_img=cv2.imread(r'D:\\rohith\\computercv\\facerecognization\\sachin.jpg')\n",
    "test_img"
   ]
  },
  {
   "cell_type": "code",
   "execution_count": 16,
   "metadata": {},
   "outputs": [],
   "source": [
    "predicted=predict(test_img)\n",
    "cv2.imshow('Predicted_image',predicted)\n",
    "cv2.waitKey()\n",
    "cv2.destroyAllWindows()"
   ]
  }
 ],
 "metadata": {
  "kernelspec": {
   "display_name": "Python 3",
   "language": "python",
   "name": "python3"
  },
  "language_info": {
   "codemirror_mode": {
    "name": "ipython",
    "version": 3
   },
   "file_extension": ".py",
   "mimetype": "text/x-python",
   "name": "python",
   "nbconvert_exporter": "python",
   "pygments_lexer": "ipython3",
   "version": "3.10.8"
  },
  "orig_nbformat": 4,
  "vscode": {
   "interpreter": {
    "hash": "42ae2ef0832c694fbb36094a1c58d1f43a247ebe70324b2cc220726a9a495703"
   }
  }
 },
 "nbformat": 4,
 "nbformat_minor": 2
}
